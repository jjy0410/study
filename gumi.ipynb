{
  "nbformat": 4,
  "nbformat_minor": 0,
  "metadata": {
    "colab": {
      "provenance": [],
      "authorship_tag": "ABX9TyPzWcML1CUqwCBhvBvTtSUm",
      "include_colab_link": true
    },
    "kernelspec": {
      "name": "python3",
      "display_name": "Python 3"
    },
    "language_info": {
      "name": "python"
    }
  },
  "cells": [
    {
      "cell_type": "markdown",
      "metadata": {
        "id": "view-in-github",
        "colab_type": "text"
      },
      "source": [
        "<a href=\"https://colab.research.google.com/github/jjy0410/study/blob/main/gumi.ipynb\" target=\"_parent\"><img src=\"https://colab.research.google.com/assets/colab-badge.svg\" alt=\"Open In Colab\"/></a>"
      ]
    },
    {
      "cell_type": "code",
      "execution_count": 1,
      "metadata": {
        "colab": {
          "base_uri": "https://localhost:8080/"
        },
        "id": "ozugSw43Z8M5",
        "outputId": "a23199a3-8044-4eb7-d8bf-134ee6e14e23"
      },
      "outputs": [
        {
          "output_type": "stream",
          "name": "stdout",
          "text": [
            "Mounted at /content/drive\n"
          ]
        }
      ],
      "source": [
        "from google.colab import drive\n",
        "drive.mount('/content/drive')"
      ]
    },
    {
      "cell_type": "code",
      "source": [
        "import pandas as pd\n",
        "import numpy as np"
      ],
      "metadata": {
        "id": "1jTzfVxzadjF"
      },
      "execution_count": 3,
      "outputs": []
    },
    {
      "cell_type": "code",
      "source": [],
      "metadata": {
        "id": "G2xsvA9kaief"
      },
      "execution_count": null,
      "outputs": []
    },
    {
      "cell_type": "code",
      "source": [
        "path = '/content/drive/MyDrive/colab/aifactory'\n",
        "tr_data = pd.read_csv(path + '/gumi.csv', encoding=\"cp949\")"
      ],
      "metadata": {
        "id": "Nz1b7Ef2aKr8"
      },
      "execution_count": 15,
      "outputs": []
    },
    {
      "cell_type": "code",
      "source": [
        "tr_data"
      ],
      "metadata": {
        "colab": {
          "base_uri": "https://localhost:8080/",
          "height": 424
        },
        "id": "BzBagZ3RacS0",
        "outputId": "772325ce-4d92-4c07-9267-27e1333ba091"
      },
      "execution_count": 16,
      "outputs": [
        {
          "output_type": "execute_result",
          "data": {
            "text/plain": [
              "       유량계 코드    년도  월  일자      유량값         시침           종침\n",
              "0         283  2019  9   1    926.0    2051633    2052559.0\n",
              "1         286  2019  9   1   1142.0    3000089    3001231.0\n",
              "2         289  2019  9   1    724.0    1422319    1423043.0\n",
              "3         292  2019  9   1  46744.0  121278200  121324944.0\n",
              "4         295  2019  9   1   1028.0    2339002    2340030.0\n",
              "...       ...   ... ..  ..      ...        ...          ...\n",
              "31802     392  2021  8  11     19.3    1734714    1734717.0\n",
              "31803     395  2021  8  11     38.5    5647936    5647948.0\n",
              "31804     398  2021  8  11     79.1    2564903    2564926.0\n",
              "31805     410  2021  8  11    885.5   74676705   74676917.0\n",
              "31806     328  2021  8  11    328.6   16992536   16992628.0\n",
              "\n",
              "[31807 rows x 7 columns]"
            ],
            "text/html": [
              "\n",
              "  <div id=\"df-3f71de95-a3de-4b30-a4c4-0c4a33744b64\">\n",
              "    <div class=\"colab-df-container\">\n",
              "      <div>\n",
              "<style scoped>\n",
              "    .dataframe tbody tr th:only-of-type {\n",
              "        vertical-align: middle;\n",
              "    }\n",
              "\n",
              "    .dataframe tbody tr th {\n",
              "        vertical-align: top;\n",
              "    }\n",
              "\n",
              "    .dataframe thead th {\n",
              "        text-align: right;\n",
              "    }\n",
              "</style>\n",
              "<table border=\"1\" class=\"dataframe\">\n",
              "  <thead>\n",
              "    <tr style=\"text-align: right;\">\n",
              "      <th></th>\n",
              "      <th>유량계 코드</th>\n",
              "      <th>년도</th>\n",
              "      <th>월</th>\n",
              "      <th>일자</th>\n",
              "      <th>유량값</th>\n",
              "      <th>시침</th>\n",
              "      <th>종침</th>\n",
              "    </tr>\n",
              "  </thead>\n",
              "  <tbody>\n",
              "    <tr>\n",
              "      <th>0</th>\n",
              "      <td>283</td>\n",
              "      <td>2019</td>\n",
              "      <td>9</td>\n",
              "      <td>1</td>\n",
              "      <td>926.0</td>\n",
              "      <td>2051633</td>\n",
              "      <td>2052559.0</td>\n",
              "    </tr>\n",
              "    <tr>\n",
              "      <th>1</th>\n",
              "      <td>286</td>\n",
              "      <td>2019</td>\n",
              "      <td>9</td>\n",
              "      <td>1</td>\n",
              "      <td>1142.0</td>\n",
              "      <td>3000089</td>\n",
              "      <td>3001231.0</td>\n",
              "    </tr>\n",
              "    <tr>\n",
              "      <th>2</th>\n",
              "      <td>289</td>\n",
              "      <td>2019</td>\n",
              "      <td>9</td>\n",
              "      <td>1</td>\n",
              "      <td>724.0</td>\n",
              "      <td>1422319</td>\n",
              "      <td>1423043.0</td>\n",
              "    </tr>\n",
              "    <tr>\n",
              "      <th>3</th>\n",
              "      <td>292</td>\n",
              "      <td>2019</td>\n",
              "      <td>9</td>\n",
              "      <td>1</td>\n",
              "      <td>46744.0</td>\n",
              "      <td>121278200</td>\n",
              "      <td>121324944.0</td>\n",
              "    </tr>\n",
              "    <tr>\n",
              "      <th>4</th>\n",
              "      <td>295</td>\n",
              "      <td>2019</td>\n",
              "      <td>9</td>\n",
              "      <td>1</td>\n",
              "      <td>1028.0</td>\n",
              "      <td>2339002</td>\n",
              "      <td>2340030.0</td>\n",
              "    </tr>\n",
              "    <tr>\n",
              "      <th>...</th>\n",
              "      <td>...</td>\n",
              "      <td>...</td>\n",
              "      <td>...</td>\n",
              "      <td>...</td>\n",
              "      <td>...</td>\n",
              "      <td>...</td>\n",
              "      <td>...</td>\n",
              "    </tr>\n",
              "    <tr>\n",
              "      <th>31802</th>\n",
              "      <td>392</td>\n",
              "      <td>2021</td>\n",
              "      <td>8</td>\n",
              "      <td>11</td>\n",
              "      <td>19.3</td>\n",
              "      <td>1734714</td>\n",
              "      <td>1734717.0</td>\n",
              "    </tr>\n",
              "    <tr>\n",
              "      <th>31803</th>\n",
              "      <td>395</td>\n",
              "      <td>2021</td>\n",
              "      <td>8</td>\n",
              "      <td>11</td>\n",
              "      <td>38.5</td>\n",
              "      <td>5647936</td>\n",
              "      <td>5647948.0</td>\n",
              "    </tr>\n",
              "    <tr>\n",
              "      <th>31804</th>\n",
              "      <td>398</td>\n",
              "      <td>2021</td>\n",
              "      <td>8</td>\n",
              "      <td>11</td>\n",
              "      <td>79.1</td>\n",
              "      <td>2564903</td>\n",
              "      <td>2564926.0</td>\n",
              "    </tr>\n",
              "    <tr>\n",
              "      <th>31805</th>\n",
              "      <td>410</td>\n",
              "      <td>2021</td>\n",
              "      <td>8</td>\n",
              "      <td>11</td>\n",
              "      <td>885.5</td>\n",
              "      <td>74676705</td>\n",
              "      <td>74676917.0</td>\n",
              "    </tr>\n",
              "    <tr>\n",
              "      <th>31806</th>\n",
              "      <td>328</td>\n",
              "      <td>2021</td>\n",
              "      <td>8</td>\n",
              "      <td>11</td>\n",
              "      <td>328.6</td>\n",
              "      <td>16992536</td>\n",
              "      <td>16992628.0</td>\n",
              "    </tr>\n",
              "  </tbody>\n",
              "</table>\n",
              "<p>31807 rows × 7 columns</p>\n",
              "</div>\n",
              "      <button class=\"colab-df-convert\" onclick=\"convertToInteractive('df-3f71de95-a3de-4b30-a4c4-0c4a33744b64')\"\n",
              "              title=\"Convert this dataframe to an interactive table.\"\n",
              "              style=\"display:none;\">\n",
              "        \n",
              "  <svg xmlns=\"http://www.w3.org/2000/svg\" height=\"24px\"viewBox=\"0 0 24 24\"\n",
              "       width=\"24px\">\n",
              "    <path d=\"M0 0h24v24H0V0z\" fill=\"none\"/>\n",
              "    <path d=\"M18.56 5.44l.94 2.06.94-2.06 2.06-.94-2.06-.94-.94-2.06-.94 2.06-2.06.94zm-11 1L8.5 8.5l.94-2.06 2.06-.94-2.06-.94L8.5 2.5l-.94 2.06-2.06.94zm10 10l.94 2.06.94-2.06 2.06-.94-2.06-.94-.94-2.06-.94 2.06-2.06.94z\"/><path d=\"M17.41 7.96l-1.37-1.37c-.4-.4-.92-.59-1.43-.59-.52 0-1.04.2-1.43.59L10.3 9.45l-7.72 7.72c-.78.78-.78 2.05 0 2.83L4 21.41c.39.39.9.59 1.41.59.51 0 1.02-.2 1.41-.59l7.78-7.78 2.81-2.81c.8-.78.8-2.07 0-2.86zM5.41 20L4 18.59l7.72-7.72 1.47 1.35L5.41 20z\"/>\n",
              "  </svg>\n",
              "      </button>\n",
              "      \n",
              "  <style>\n",
              "    .colab-df-container {\n",
              "      display:flex;\n",
              "      flex-wrap:wrap;\n",
              "      gap: 12px;\n",
              "    }\n",
              "\n",
              "    .colab-df-convert {\n",
              "      background-color: #E8F0FE;\n",
              "      border: none;\n",
              "      border-radius: 50%;\n",
              "      cursor: pointer;\n",
              "      display: none;\n",
              "      fill: #1967D2;\n",
              "      height: 32px;\n",
              "      padding: 0 0 0 0;\n",
              "      width: 32px;\n",
              "    }\n",
              "\n",
              "    .colab-df-convert:hover {\n",
              "      background-color: #E2EBFA;\n",
              "      box-shadow: 0px 1px 2px rgba(60, 64, 67, 0.3), 0px 1px 3px 1px rgba(60, 64, 67, 0.15);\n",
              "      fill: #174EA6;\n",
              "    }\n",
              "\n",
              "    [theme=dark] .colab-df-convert {\n",
              "      background-color: #3B4455;\n",
              "      fill: #D2E3FC;\n",
              "    }\n",
              "\n",
              "    [theme=dark] .colab-df-convert:hover {\n",
              "      background-color: #434B5C;\n",
              "      box-shadow: 0px 1px 3px 1px rgba(0, 0, 0, 0.15);\n",
              "      filter: drop-shadow(0px 1px 2px rgba(0, 0, 0, 0.3));\n",
              "      fill: #FFFFFF;\n",
              "    }\n",
              "  </style>\n",
              "\n",
              "      <script>\n",
              "        const buttonEl =\n",
              "          document.querySelector('#df-3f71de95-a3de-4b30-a4c4-0c4a33744b64 button.colab-df-convert');\n",
              "        buttonEl.style.display =\n",
              "          google.colab.kernel.accessAllowed ? 'block' : 'none';\n",
              "\n",
              "        async function convertToInteractive(key) {\n",
              "          const element = document.querySelector('#df-3f71de95-a3de-4b30-a4c4-0c4a33744b64');\n",
              "          const dataTable =\n",
              "            await google.colab.kernel.invokeFunction('convertToInteractive',\n",
              "                                                     [key], {});\n",
              "          if (!dataTable) return;\n",
              "\n",
              "          const docLinkHtml = 'Like what you see? Visit the ' +\n",
              "            '<a target=\"_blank\" href=https://colab.research.google.com/notebooks/data_table.ipynb>data table notebook</a>'\n",
              "            + ' to learn more about interactive tables.';\n",
              "          element.innerHTML = '';\n",
              "          dataTable['output_type'] = 'display_data';\n",
              "          await google.colab.output.renderOutput(dataTable, element);\n",
              "          const docLink = document.createElement('div');\n",
              "          docLink.innerHTML = docLinkHtml;\n",
              "          element.appendChild(docLink);\n",
              "        }\n",
              "      </script>\n",
              "    </div>\n",
              "  </div>\n",
              "  "
            ]
          },
          "metadata": {},
          "execution_count": 16
        }
      ]
    },
    {
      "cell_type": "code",
      "source": [],
      "metadata": {
        "id": "7cNWzHUUdebq"
      },
      "execution_count": null,
      "outputs": []
    }
  ]
}